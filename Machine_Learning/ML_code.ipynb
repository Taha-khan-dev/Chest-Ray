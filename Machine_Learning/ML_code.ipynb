{
 "cells": [
  {
   "cell_type": "markdown",
   "metadata": {},
   "source": [
    "# Import libraries"
   ]
  },
  {
   "cell_type": "code",
   "execution_count": 1,
   "metadata": {},
   "outputs": [],
   "source": [
    "import os\n",
    "import numpy as np\n",
    "import matplotlib.pyplot as plot\n",
    "import tensorflow as tf\n",
    "from tensorflow import keras"
   ]
  },
  {
   "cell_type": "markdown",
   "metadata": {},
   "source": [
    "# Data"
   ]
  },
  {
   "cell_type": "code",
   "execution_count": 2,
   "metadata": {},
   "outputs": [
    {
     "name": "stdout",
     "output_type": "stream",
     "text": [
      "Found 24 files belonging to 2 classes.\n",
      "Using 20 files for training.\n",
      "Found 24 files belonging to 2 classes.\n",
      "Using 4 files for validation.\n",
      "['NORMAL', 'PNEUMONIA']\n",
      "['NORMAL', 'PNEUMONIA']\n"
     ]
    }
   ],
   "source": [
    "batch_size = 2\n",
    "img_size = (250,250)\n",
    "dataset_path = 'Dataset'\n",
    "\n",
    "train_dataset =  tf.keras.utils.image_dataset_from_directory(\n",
    "    directory = dataset_path,\n",
    "    batch_size = batch_size,\n",
    "    image_size = img_size,\n",
    "    shuffle = False,\n",
    "    seed = 2930012,\n",
    "    validation_split = 0.2, #80% of the images will be used for training\n",
    "    subset = \"training\"\n",
    ")\n",
    "\n",
    "test_dataset =  tf.keras.utils.image_dataset_from_directory(\n",
    "    directory = dataset_path,\n",
    "    batch_size = batch_size,\n",
    "    image_size = img_size,\n",
    "    shuffle = False,\n",
    "    seed = 2930012,\n",
    "    validation_split = 0.2, #20% of the images will be used for validation\n",
    "    subset = \"validation\"\n",
    ")\n",
    "\n",
    "print(train_dataset.class_names)\n",
    "print(test_dataset.class_names)\n",
    "\n",
    "\n",
    "#print(\"Training Set\")\n",
    "#for image_batch, labels_batch in train_ds:\n",
    "#    print(str(image_batch.shape) + str(labels_batch.shape))\n",
    "\n",
    "#print(\"Validation Set\")\n",
    "#for image_batch, labels_batch in test_ds:\n",
    "#    print(str(image_batch.shape) + str(labels_batch.shape))"
   ]
  },
  {
   "cell_type": "markdown",
   "metadata": {},
   "source": [
    "# Understainding the data"
   ]
  },
  {
   "cell_type": "code",
   "execution_count": null,
   "metadata": {},
   "outputs": [],
   "source": []
  }
 ],
 "metadata": {
  "kernelspec": {
   "display_name": "base",
   "language": "python",
   "name": "python3"
  },
  "language_info": {
   "codemirror_mode": {
    "name": "ipython",
    "version": 3
   },
   "file_extension": ".py",
   "mimetype": "text/x-python",
   "name": "python",
   "nbconvert_exporter": "python",
   "pygments_lexer": "ipython3",
   "version": "3.12.7"
  }
 },
 "nbformat": 4,
 "nbformat_minor": 2
}
